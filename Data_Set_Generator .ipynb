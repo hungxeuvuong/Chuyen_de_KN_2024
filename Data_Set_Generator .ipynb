{
 "cells": [
  {
   "cell_type": "markdown",
   "id": "f51341ce",
   "metadata": {},
   "source": [
    "# Data Set Generator "
   ]
  },
  {
   "cell_type": "code",
   "execution_count": 11,
   "id": "38f87734",
   "metadata": {},
   "outputs": [],
   "source": [
    "# Trích xuất thông tin PE trong file exe\n",
    "import pefile \n",
    "# Tạo file csv\n",
    "import csv\n",
    "# Truy cập vào thư mực\n",
    "import glob"
   ]
  },
  {
   "cell_type": "markdown",
   "id": "3de03b84",
   "metadata": {},
   "source": [
    "Trước tiên, hãy tạo 2 thư mục, thêm phần mềm độc hại vào một thư mục và phần mềm an toàn vào thư mục kia. Sau đó truy cập các thư mục với glob như sau:"
   ]
  },
  {
   "cell_type": "code",
   "execution_count": 13,
   "id": "26392386",
   "metadata": {},
   "outputs": [],
   "source": [
    "malware = glob.glob(r'C:\\Users\\Dell\\Malware-Detection-Using-Machine-Learning\\data-set\\Malware\\Google.exe') "
   ]
  },
  {
   "cell_type": "code",
   "execution_count": 14,
   "id": "e0833f40",
   "metadata": {},
   "outputs": [],
   "source": [
    "secure = glob.glob(r'C:\\Users\\Dell\\Malware-Detection-Using-Machine-Learning\\data-set\\Benign\\emu8086_softradar-com.exe') "
   ]
  },
  {
   "cell_type": "markdown",
   "id": "70f615e1",
   "metadata": {},
   "source": [
    "Định nghĩa header information trong dataset"
   ]
  },
  {
   "cell_type": "code",
   "execution_count": 15,
   "id": "f2111f89",
   "metadata": {},
   "outputs": [],
   "source": [
    "header =[\"AddressOfEntryPoint\",\"MajorLinkerVersion\",\"MajorImageVersion\",\n",
    "         \"MajorOperatingSystemVersion\",\"DllCharacteristics\",\n",
    "         \"SizeOfStackReserve\",\"NumberOfSections\",\"ResourceSize\",\"IfMalware\"]"
   ]
  },
  {
   "cell_type": "markdown",
   "id": "9726a7e4",
   "metadata": {},
   "source": [
    "Sử dụng code dưới để tạo tập dữ liệu ở định dạng tệp csv:"
   ]
  },
  {
   "cell_type": "code",
   "execution_count": 17,
   "id": "a098d0b9",
   "metadata": {},
   "outputs": [],
   "source": [
    "with open(r'C:\\Users\\Dell\\Malware-Detection-Using-Machine-Learning\\data-set\\homemade_dataset.csv', 'w', encoding='UTF8', newline='') as f:\n",
    "    writer = csv.writer(f) #Tạo một đối tượng writer từ thư viện csv, sử dụng file đã mở (f) để ghi dữ liệu\n",
    "    writer.writerow(header) # Viết dòng đầu tiên của CSV là các tiêu đề cột/header\n",
    "#with open(): Mở một file để ghi, đảm bảo file sẽ được đóng đúng cách sau khi sử dụng\n",
    "#'w': Chế độ ghi (write), sẽ tạo file mới hoặc ghi đè file cũ nếu đã tồn tại\n",
    "#encoding='UTF8': Sử dụng mã hóa UTF-8 để hỗ trợ các ký tự quốc tế\n",
    "#newline='': Ngăn việc thêm dòng trống giữa các hàng khi ghi CSV\n",
    "\n",
    "    \n",
    "    # Thêm pe information cho Malware folder:\n",
    "    for file in malware:\n",
    "        pe = pefile.PE(file)\n",
    "        a = str(pe.OPTIONAL_HEADER.AddressOfEntryPoint)  # Địa chỉ điểm bắt đầu thực thi chương trình\n",
    "        b = str(pe.OPTIONAL_HEADER.MajorLinkerVersion)   # Phiên bản linker chính\n",
    "        c = str(pe.OPTIONAL_HEADER.MajorImageVersion)    # Phiên bản hình ảnh chính\n",
    "        d = str(pe.OPTIONAL_HEADER.MajorOperatingSystemVersion)  # Phiên bản hệ điều hành chính\n",
    "        e = str(pe.OPTIONAL_HEADER.DllCharacteristics)   # Đặc tính DLL\n",
    "        f = str(pe.OPTIONAL_HEADER.SizeOfStackReserve)  # Kích thước stack dự trữ\n",
    "        g = str(pe.FILE_HEADER.NumberOfSections)        # Số lượng section trong file\n",
    "        h = str(pe.OPTIONAL_HEADER.DATA_DIRECTORY[2].Size)  # Kích thước bảng Import\n",
    "        i = \"1\" # Gán nhãn \"1\" cho các file malware, 1 = độc hại\n",
    "        \n",
    "        data = [a,b,c,d,e,f,g,h,i] # Tạo list chứa các thuộc tính đã trích xuất\n",
    "        writer.writerow(data) #Ghi một dòng mới vào file CSV với các thông tin này\n",
    "    \n",
    "    # Thêm pe information cho benign folder:\n",
    "    for file in secure:\n",
    "        pe = pefile.PE(file)\n",
    "        a = str(pe.OPTIONAL_HEADER.AddressOfEntryPoint)\n",
    "        b = str(pe.OPTIONAL_HEADER.MajorLinkerVersion)\n",
    "        c = str(pe.OPTIONAL_HEADER.MajorImageVersion)\n",
    "        d = str(pe.OPTIONAL_HEADER.MajorOperatingSystemVersion)\n",
    "        e = str(pe.OPTIONAL_HEADER.DllCharacteristics)\n",
    "        f = str(pe.OPTIONAL_HEADER.SizeOfStackReserve)\n",
    "        g = str(pe.FILE_HEADER.NumberOfSections)\n",
    "        h = str(pe.OPTIONAL_HEADER.DATA_DIRECTORY[2].Size)\n",
    "        i = \"0\" # Gắn nhãn 0 cho file an toàn\n",
    "        \n",
    "        data = [a,b,c,d,e,f,g,h,i]\n",
    "        writer.writerow(data)"
   ]
  },
  {
   "cell_type": "markdown",
   "id": "15004a13",
   "metadata": {},
   "source": [
    "Ta đã tạo tập dữ liệu của riêng mình bằng cách trích xuất thông tin PE của tệp exe và ghi chúng vào tệp csv."
   ]
  },
  {
   "cell_type": "code",
   "execution_count": null,
   "id": "30181e79",
   "metadata": {},
   "outputs": [],
   "source": []
  }
 ],
 "metadata": {
  "kernelspec": {
   "display_name": "Python 3 (ipykernel)",
   "language": "python",
   "name": "python3"
  },
  "language_info": {
   "codemirror_mode": {
    "name": "ipython",
    "version": 3
   },
   "file_extension": ".py",
   "mimetype": "text/x-python",
   "name": "python",
   "nbconvert_exporter": "python",
   "pygments_lexer": "ipython3",
   "version": "3.11.9"
  }
 },
 "nbformat": 4,
 "nbformat_minor": 5
}
